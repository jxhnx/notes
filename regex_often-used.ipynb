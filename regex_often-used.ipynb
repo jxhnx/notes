{
 "cells": [
  {
   "cell_type": "code",
   "execution_count": 1,
   "metadata": {},
   "outputs": [],
   "source": [
    "import re\n",
    "# https://docs.python.org/3/library/re.html\n",
    "# functions are similar to PHP; for PHP, use preg_ with delimiters"
   ]
  },
  {
   "cell_type": "code",
   "execution_count": 2,
   "metadata": {},
   "outputs": [
    {
     "name": "stdout",
     "output_type": "stream",
     "text": [
      "B1aHFc5HNBlnilC9zG98Ty2C\n"
     ]
    }
   ],
   "source": [
    "# search for part of string\n",
    "# PHP: preg_match('/B1aHFc5HNBlnilC9zG98Ty2C/', $str, matches) with matches[0]\n",
    "\n",
    "str = 'PW: B1aHFc5HNBlnilC9zG98Ty2C'\n",
    "PW = re.search('B1aHFc5HNBlnilC9zG98Ty2C', str)\n",
    "\n",
    "if PW:\n",
    "    print(PW.group(0))"
   ]
  },
  {
   "cell_type": "code",
   "execution_count": 3,
   "metadata": {},
   "outputs": [
    {
     "data": {
      "text/plain": [
       "'1,93'"
      ]
     },
     "execution_count": 3,
     "metadata": {},
     "output_type": "execute_result"
    }
   ],
   "source": [
    "# search a certain number format\n",
    "# use re.match instead of re.search if match has to be at the start of the string\n",
    "# PHP: preg_match('/[12][,]\\d\\d/', $str, $matches) with matches[0]\n",
    "\n",
    "str = '1,935494 m'\n",
    "re.search('[12][,]\\d\\d', str).group(0)\n",
    "re.match('[12][,]\\d\\d', str).group(0)"
   ]
  },
  {
   "cell_type": "code",
   "execution_count": 4,
   "metadata": {},
   "outputs": [
    {
     "data": {
      "text/plain": [
       "['color1', 'color2', 'color3']"
      ]
     },
     "execution_count": 4,
     "metadata": {},
     "output_type": "execute_result"
    }
   ],
   "source": [
    "# return all hits between certain characters (e.g. %) while discarding the characters\n",
    "# PHP: preg_match_all('/%([^%]+)%/', $str, $matches) with matches[0]\n",
    "\n",
    "str = '%color1%, %color2% and %color3% are important colors.' \n",
    "re.findall('%([^%]+)%', str)"
   ]
  },
  {
   "cell_type": "code",
   "execution_count": 5,
   "metadata": {},
   "outputs": [
    {
     "data": {
      "text/plain": [
       "'Red is my favorite color.'"
      ]
     },
     "execution_count": 5,
     "metadata": {},
     "output_type": "execute_result"
    }
   ],
   "source": [
    "# replace certain hit between certain characters (e.g. %) while discarding the characters; (?i) ignores case\n",
    "# PHP: preg_replace('/%color%/i', $rplc, $str); i after delimiters ignores case\n",
    "\n",
    "str = '%Color% is my favorite color.'\n",
    "rplc = 'Red'\n",
    "re.sub('(?i)%color%', rplc, str)"
   ]
  },
  {
   "cell_type": "code",
   "execution_count": 6,
   "metadata": {},
   "outputs": [
    {
     "data": {
      "text/plain": [
       "['python', '420']"
      ]
     },
     "execution_count": 6,
     "metadata": {},
     "output_type": "execute_result"
    }
   ],
   "source": [
    "# split to term and number\n",
    "# PHP: preg_split('/(?<=[^\\d])(?=\\d)/', $str)\n",
    "\n",
    "str = 'python420'\n",
    "re.split('(?<=[^\\d])(?=\\d)', str)"
   ]
  },
  {
   "cell_type": "code",
   "execution_count": null,
   "metadata": {},
   "outputs": [],
   "source": []
  }
 ],
 "metadata": {
  "kernelspec": {
   "display_name": "Python 3",
   "language": "python",
   "name": "python3"
  },
  "language_info": {
   "codemirror_mode": {
    "name": "ipython",
    "version": 3
   },
   "file_extension": ".py",
   "mimetype": "text/x-python",
   "name": "python",
   "nbconvert_exporter": "python",
   "pygments_lexer": "ipython3",
   "version": "3.8.5"
  }
 },
 "nbformat": 4,
 "nbformat_minor": 4
}
