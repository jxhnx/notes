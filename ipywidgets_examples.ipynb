{
 "cells": [
  {
   "cell_type": "code",
   "execution_count": 1,
   "metadata": {},
   "outputs": [],
   "source": [
    "# imports\n",
    "import math\n",
    "import numpy as np\n",
    "import matplotlib.pyplot as plt\n",
    "import ipywidgets as widgets"
   ]
  },
  {
   "cell_type": "markdown",
   "metadata": {},
   "source": [
    "# Widgets"
   ]
  },
  {
   "cell_type": "code",
   "execution_count": 2,
   "metadata": {},
   "outputs": [],
   "source": [
    "def rnd_points(m=1):\n",
    "    np.random.seed(0)\n",
    "    x = np.random.uniform(0, 5, size=100)\n",
    "    ep = np.random.normal(size=100)\n",
    "\n",
    "    y = m * x + ep\n",
    "    \n",
    "    plt.scatter(x, y)"
   ]
  },
  {
   "cell_type": "code",
   "execution_count": 3,
   "metadata": {},
   "outputs": [
    {
     "data": {
      "application/vnd.jupyter.widget-view+json": {
       "model_id": "fae69a1d94e84dd0b5725e706053a37f",
       "version_major": 2,
       "version_minor": 0
      },
      "text/plain": [
       "interactive(children=(FloatSlider(value=1.0, description='m', max=5.0), Output()), _dom_classes=('widget-inter…"
      ]
     },
     "metadata": {},
     "output_type": "display_data"
    },
    {
     "data": {
      "text/plain": [
       "<function __main__.rnd_points(m=1)>"
      ]
     },
     "execution_count": 3,
     "metadata": {},
     "output_type": "execute_result"
    }
   ],
   "source": [
    "# slider 0-5\n",
    "widgets.interact(rnd_points, m=(0, 5, 0.1))"
   ]
  },
  {
   "cell_type": "code",
   "execution_count": 4,
   "metadata": {},
   "outputs": [
    {
     "data": {
      "application/vnd.jupyter.widget-view+json": {
       "model_id": "ebe627a7bbd340ff8bfc679176aa6156",
       "version_major": 2,
       "version_minor": 0
      },
      "text/plain": [
       "interactive(children=(Dropdown(description='m', index=1, options=(0, 1, 2, 3, 4, 5), value=1), Output()), _dom…"
      ]
     },
     "metadata": {},
     "output_type": "display_data"
    },
    {
     "data": {
      "text/plain": [
       "<function __main__.rnd_points(m=1)>"
      ]
     },
     "execution_count": 4,
     "metadata": {},
     "output_type": "execute_result"
    }
   ],
   "source": [
    "# dropdown 0-5\n",
    "widgets.interact(rnd_points, m=[0, 1, 2, 3, 4, 5])"
   ]
  },
  {
   "cell_type": "code",
   "execution_count": 5,
   "metadata": {},
   "outputs": [],
   "source": [
    "def rnd_points_advanced(m=1, scatter_color='blue', net=True):\n",
    "    np.random.seed(0)\n",
    "    x = np.random.uniform(0, 5, size=100)\n",
    "    ep = np.random.normal(size=100)\n",
    "\n",
    "    y = m * x + ep\n",
    "    \n",
    "    plt.scatter(x, y, color=scatter_color)\n",
    "    if net:\n",
    "        plt.plot(x, m*x + ep, lw=0.5, color='black')"
   ]
  },
  {
   "cell_type": "code",
   "execution_count": 6,
   "metadata": {},
   "outputs": [
    {
     "data": {
      "application/vnd.jupyter.widget-view+json": {
       "model_id": "9b20436295704f44b8d9dca5ae348ecf",
       "version_major": 2,
       "version_minor": 0
      },
      "text/plain": [
       "interactive(children=(FloatSlider(value=1.0, description='m', max=5.0), Dropdown(description='scatter_color', …"
      ]
     },
     "metadata": {},
     "output_type": "display_data"
    },
    {
     "data": {
      "text/plain": [
       "<function __main__.rnd_points_advanced(m=1, scatter_color='blue', net=True)>"
      ]
     },
     "execution_count": 6,
     "metadata": {},
     "output_type": "execute_result"
    }
   ],
   "source": [
    "widgets.interact(rnd_points_advanced, m=(0, 5, 0.1), scatter_color=['blue', 'red', 'green', 'yellow', 'black'], net=True)"
   ]
  },
  {
   "cell_type": "markdown",
   "metadata": {},
   "source": [
    "## More...\n",
    "https://ipywidgets.readthedocs.io/en/latest/examples/Widget%20List.html"
   ]
  },
  {
   "cell_type": "code",
   "execution_count": 7,
   "metadata": {},
   "outputs": [
    {
     "data": {
      "application/vnd.jupyter.widget-view+json": {
       "model_id": "5acd752cf5be458aafba15ddfad27aa9",
       "version_major": 2,
       "version_minor": 0
      },
      "text/plain": [
       "interactive(children=(IntSlider(value=7, continuous_update=False, description='NumPy seed:', max=50), FloatSli…"
      ]
     },
     "metadata": {},
     "output_type": "display_data"
    },
    {
     "data": {
      "text/plain": [
       "<function __main__.rnd_points_final(seed, slope, offset, color, net)>"
      ]
     },
     "execution_count": 7,
     "metadata": {},
     "output_type": "execute_result"
    }
   ],
   "source": [
    "# ...more\n",
    "def rnd_points_final(seed, slope, offset, color, net):\n",
    "    np.random.seed(seed)\n",
    "    x = np.random.uniform(0, 5, size=100)\n",
    "    ep = np.random.normal(size=100)\n",
    "\n",
    "    y = slope * x**offset + ep\n",
    "    \n",
    "    plt.scatter(x, y, color=color)\n",
    "    if net:\n",
    "        plt.plot(x, slope * x**offset + ep, lw=0.5, color='black')\n",
    "        \n",
    "        \n",
    "color = ['blue', 'red', 'green', 'yellow', 'black']\n",
    "widgets.interact(rnd_points_final,\n",
    "                 seed = widgets.IntSlider(value=7, min=0, max=50, step=1, description='NumPy seed:',\n",
    "                                              continuous_update=False),\n",
    "                 slope = widgets.FloatSlider(value=1, min=0, max=5, step=0.1,\n",
    "                            description='Slope: ', continuous_update=False),\n",
    "                 offset = widgets.FloatLogSlider(value=1, base=10, \n",
    "                                                 min=math.log(1)/math.log(10), \n",
    "                                                 max=math.log(10)/math.log(10), \n",
    "                                                 step=0.01, description='Exponent: ', continuous_update=False),\n",
    "                 color = widgets.Dropdown(options=color, value='black', description='Color: '),\n",
    "                 net = widgets.Checkbox(value=True, description='Net ', disabled=False, indent=True)\n",
    "                )\n"
   ]
  }
 ],
 "metadata": {
  "kernelspec": {
   "display_name": "Python 3",
   "language": "python",
   "name": "python3"
  },
  "language_info": {
   "codemirror_mode": {
    "name": "ipython",
    "version": 3
   },
   "file_extension": ".py",
   "mimetype": "text/x-python",
   "name": "python",
   "nbconvert_exporter": "python",
   "pygments_lexer": "ipython3",
   "version": "3.8.8"
  }
 },
 "nbformat": 4,
 "nbformat_minor": 4
}
