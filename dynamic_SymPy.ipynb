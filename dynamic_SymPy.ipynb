{
 "cells": [
  {
   "cell_type": "code",
   "execution_count": 72,
   "id": "f9dd9fa0",
   "metadata": {},
   "outputs": [],
   "source": [
    "# imports\n",
    "import math\n",
    "from sympy import *"
   ]
  },
  {
   "cell_type": "code",
   "execution_count": 2,
   "id": "33af3517",
   "metadata": {},
   "outputs": [
    {
     "data": {
      "text/plain": [
       "[-0.00910333333333333]"
      ]
     },
     "execution_count": 2,
     "metadata": {},
     "output_type": "execute_result"
    }
   ],
   "source": [
    "# solves equation for requestet variable\n",
    "\n",
    "def lin(solve_for, **kwargs):\n",
    "    '''Solve \"y = m * x + p\" for chosen variable. Kwargs must be named accordingly.'''\n",
    "    kwargs[solve_for] = var(solve_for)\n",
    "    y, m, x, p = kwargs['y'], kwargs['m'], kwargs['x'], kwargs['p']\n",
    "    \n",
    "    eqn = Eq(y, m*x +p)\n",
    "    \n",
    "    return solve(eqn, solve_for)\n",
    "    \n",
    "\n",
    "lin('x', m=12, y=1.323 , p=1.43224)"
   ]
  },
  {
   "cell_type": "code",
   "execution_count": 4,
   "id": "df1ae53a",
   "metadata": {},
   "outputs": [
    {
     "data": {
      "text/plain": [
       "[-0.00910333333333333]"
      ]
     },
     "execution_count": 4,
     "metadata": {},
     "output_type": "execute_result"
    }
   ],
   "source": [
    "# saves you one line per equation\n",
    "\n",
    "def sf(func):\n",
    "    def wrapper(solve_for, **kwargs):\n",
    "        kwargs[solve_for] = var(solve_for)\n",
    "        result = func(solve_for, **kwargs)\n",
    "        return result\n",
    "    return wrapper\n",
    "\n",
    "@sf\n",
    "def lin(solve_for, **kwargs):\n",
    "    '''Solve \"y = m * x + p\" for chosen variable. Kwargs must be named accordingly.'''\n",
    "    y, m, x, p = kwargs['y'], kwargs['m'], kwargs['x'], kwargs['p']\n",
    "    \n",
    "    eqn = Eq(y, m*x +p)\n",
    "    \n",
    "    return solve(eqn, solve_for)\n",
    "    \n",
    "    \n",
    "lin('x', m=12, y=1.323 , p=1.43224)"
   ]
  },
  {
   "cell_type": "code",
   "execution_count": 78,
   "id": "5098165f",
   "metadata": {},
   "outputs": [
    {
     "name": "stdout",
     "output_type": "stream",
     "text": [
      "[8]\n",
      "[8]\n",
      "[1/2]\n",
      "[1/2]\n",
      "0.01651278562979814\n",
      "49999.9999999998\n"
     ]
    }
   ],
   "source": [
    "# TEST z = x + y * x\n",
    "\n",
    "def order1(solve_for, **kwargs):\n",
    "    kwargs[solve_for] = var(solve_for)\n",
    "    x, y, z = kwargs['x'], kwargs['y'], kwargs['z']\n",
    "    \n",
    "    eqn = Eq(z, x + y * x)\n",
    "    \n",
    "    return solve(eqn, solve_for)\n",
    "\n",
    "def order2(solve_for, **kwargs):\n",
    "    kwargs[solve_for] = var(solve_for)\n",
    "    x, y, z = kwargs['x'], kwargs['y'], kwargs['z']\n",
    "    \n",
    "    eqn = Eq(z, y * x + x)\n",
    "    \n",
    "    return solve(eqn, solve_for)\n",
    "\n",
    "\n",
    "print(order1('z', x=2, y=3))\n",
    "print(order2('z', x=2, y=3))\n",
    "\n",
    "print(order1('x', z=2, y=3))\n",
    "print(order2('x', z=2, y=3))\n",
    "\n",
    "\n",
    "# more complex test\n",
    "\n",
    "def cyl_elastic_buckling(solve_for, **kwargs):\n",
    "    '''\"d, force, length, buckling_case, E, S\"'''\n",
    "    kwargs[solve_for] = var(solve_for)\n",
    "    d, force, length, buckling_case, E, S = kwargs['d'], kwargs['force'], kwargs['length'], kwargs['buckling_case'], kwargs['E'], kwargs['S']\n",
    "    \n",
    "    eqn = Eq( d, S * (64 * force * (length*buckling_case)**2 / (math.pi**3 * E)) )\n",
    "    \n",
    "    return solve(eqn, solve_for)[0]\n",
    "\n",
    "\n",
    "def cyl_d_min_buckling(force, length, E, buckling_case = 1, S = 4):\n",
    "    # minimal diameter for buckling (cylinders)\n",
    "    return S * (64 * force * (length*buckling_case)**2 / (math.pi**3 * E) )\n",
    "\n",
    "\n",
    "print( cyl_d_min_buckling(50_000, 1, 250 * 100_000, 1, 4) )\n",
    "print( elastic_buckling( 'force', d=0.01651278562979814, length=1, buckling_case=1, E=250*100_000, S=4 ) )"
   ]
  }
 ],
 "metadata": {
  "kernelspec": {
   "display_name": "Python 3.8.8 64-bit ('base': conda)",
   "language": "python",
   "name": "python388jvsc74a57bd08eca6b47aa8dee5d12372d23015027519f025db3249638c56223ed39f2364957"
  },
  "language_info": {
   "codemirror_mode": {
    "name": "ipython",
    "version": 3
   },
   "file_extension": ".py",
   "mimetype": "text/x-python",
   "name": "python",
   "nbconvert_exporter": "python",
   "pygments_lexer": "ipython3",
   "version": "3.8.8"
  }
 },
 "nbformat": 4,
 "nbformat_minor": 5
}
